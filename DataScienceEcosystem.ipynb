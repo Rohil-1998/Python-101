{
 "cells": [
  {
   "cell_type": "markdown",
   "id": "658ea1a4-9b90-4ddb-9f0a-41a7995233d3",
   "metadata": {},
   "source": [
    "# Data Science Tools and Ecosystem"
   ]
  },
  {
   "cell_type": "markdown",
   "id": "9a74a2f1-d357-40b9-9b96-0e844dfbd747",
   "metadata": {},
   "source": [
    "#### In this notebook, Data Science Tools and Ecosystem are summarized."
   ]
  },
  {
   "cell_type": "markdown",
   "id": "e9aa06d7-836c-4e36-b84a-29dee82d281b",
   "metadata": {},
   "source": [
    "**Objectives:**\n",
    "* Data Science Tools and Ecosystem\n",
    "* Popular languages that Data Scientists use are\n",
    "* Commonly used libraries used by Data Scientists\n",
    "* Data Science Tools\n",
    "* evaluating arithmetic expressions in Python"
   ]
  },
  {
   "cell_type": "markdown",
   "id": "8a5a40da-1745-4473-94f2-e5450383181a",
   "metadata": {},
   "source": [
    "Some of the popular languages that Data Scientists use are:\n",
    "1. Python\n",
    "2. R\n",
    "3. SQL"
   ]
  },
  {
   "cell_type": "markdown",
   "id": "10fb9449-2430-41d9-bb83-6e209aa54e61",
   "metadata": {},
   "source": [
    "Some of the commonly used libraries used by Data Scientists include:\n",
    "1. NumPy\n",
    "2. Pandas\n",
    "3. Scipy\n",
    "4. Matplotlib"
   ]
  },
  {
   "cell_type": "markdown",
   "id": "ab8b71a9-a535-4f44-8c51-9f7d5108a71f",
   "metadata": {},
   "source": [
    "| Data Science Tools |\n",
    "| ---- |\n",
    "| Jupyter Notebook |\n",
    "| RStudio |\n",
    "| VS Code |"
   ]
  },
  {
   "cell_type": "markdown",
   "id": "04dfcda8-d135-4fe9-9224-0ab449264ee2",
   "metadata": {},
   "source": [
    "### Below are a few examples of evaluating arithmetic expressions in Python"
   ]
  },
  {
   "cell_type": "code",
   "execution_count": 4,
   "id": "6bb46196-ec21-4ea6-8e2a-8ce1acb93681",
   "metadata": {},
   "outputs": [
    {
     "data": {
      "text/plain": [
       "2149"
      ]
     },
     "execution_count": 4,
     "metadata": {},
     "output_type": "execute_result"
    }
   ],
   "source": [
    "789+1360"
   ]
  },
  {
   "cell_type": "code",
   "execution_count": 5,
   "id": "630b2caf-d300-4892-a186-8da113dff870",
   "metadata": {},
   "outputs": [
    {
     "data": {
      "text/plain": [
       "2.2406876790830945"
      ]
     },
     "execution_count": 5,
     "metadata": {},
     "output_type": "execute_result"
    }
   ],
   "source": [
    "782/349"
   ]
  },
  {
   "cell_type": "code",
   "execution_count": 6,
   "id": "5aa1e878-0b04-4ac9-b946-95233262aeac",
   "metadata": {},
   "outputs": [
    {
     "data": {
      "text/plain": [
       "380834"
      ]
     },
     "execution_count": 6,
     "metadata": {},
     "output_type": "execute_result"
    }
   ],
   "source": [
    "782*487"
   ]
  },
  {
   "cell_type": "code",
   "execution_count": 9,
   "id": "006993ef-1c8e-4b43-af15-23cf166e0d50",
   "metadata": {},
   "outputs": [
    {
     "data": {
      "text/plain": [
       "17"
      ]
     },
     "execution_count": 9,
     "metadata": {},
     "output_type": "execute_result"
    }
   ],
   "source": [
    "# This a simple arithmetic expression to mutiply then add integers\n",
    "(3*4)+5"
   ]
  },
  {
   "cell_type": "code",
   "execution_count": 10,
   "id": "45684cf6-4474-42b9-a106-a7c908db1ac6",
   "metadata": {},
   "outputs": [
    {
     "data": {
      "text/plain": [
       "3.3333333333333335"
      ]
     },
     "execution_count": 10,
     "metadata": {},
     "output_type": "execute_result"
    }
   ],
   "source": [
    "# This will convert 200 minutes to hours by diving by 60\n",
    "200/60"
   ]
  },
  {
   "cell_type": "markdown",
   "id": "7c1b84ae-8477-4f77-8a52-c77c09a6dfcb",
   "metadata": {},
   "source": [
    "## Author\n",
    "Rohil Sinha"
   ]
  }
 ],
 "metadata": {
  "kernelspec": {
   "display_name": "Python 3 (ipykernel)",
   "language": "python",
   "name": "python3"
  },
  "language_info": {
   "codemirror_mode": {
    "name": "ipython",
    "version": 3
   },
   "file_extension": ".py",
   "mimetype": "text/x-python",
   "name": "python",
   "nbconvert_exporter": "python",
   "pygments_lexer": "ipython3",
   "version": "3.12.11"
  }
 },
 "nbformat": 4,
 "nbformat_minor": 5
}
